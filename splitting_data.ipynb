{
  "nbformat": 4,
  "nbformat_minor": 0,
  "metadata": {
    "colab": {
      "name": "Copy of Untitled6.ipynb",
      "provenance": [],
      "toc_visible": true,
      "include_colab_link": true
    },
    "kernelspec": {
      "name": "python3",
      "display_name": "Python 3"
    }
  },
  "cells": [
    {
      "cell_type": "markdown",
      "metadata": {
        "id": "view-in-github",
        "colab_type": "text"
      },
      "source": [
        "<a href=\"https://colab.research.google.com/github/rajadevineni/COVID_Analysis/blob/master/splitting_data.ipynb\" target=\"_parent\"><img src=\"https://colab.research.google.com/assets/colab-badge.svg\" alt=\"Open In Colab\"/></a>"
      ]
    },
    {
      "cell_type": "code",
      "metadata": {
        "id": "LGuke7WpUIBC",
        "colab_type": "code",
        "colab": {}
      },
      "source": [
        "import pandas as pd\n",
        "import os\n",
        "from google.colab import files"
      ],
      "execution_count": 1,
      "outputs": []
    },
    {
      "cell_type": "markdown",
      "metadata": {
        "id": "3QNT4drfKTw3",
        "colab_type": "text"
      },
      "source": [
        "# ***Navigating to the source files directory and loading data into dataframes***"
      ]
    },
    {
      "cell_type": "markdown",
      "metadata": {
        "id": "rU2itm_HLvMt",
        "colab_type": "text"
      },
      "source": [
        "*This is my GDrive directory, edit this to your necessisity* "
      ]
    },
    {
      "cell_type": "code",
      "metadata": {
        "id": "-rbSmBK53yRv",
        "colab_type": "code",
        "colab": {
          "base_uri": "https://localhost:8080/",
          "height": 122
        },
        "outputId": "57605e47-60fb-4ecd-d047-dc2c526e56c8"
      },
      "source": [
        "#connecting to Google Drive\n",
        "from google.colab import drive\n",
        "drive.mount('/content/drive')"
      ],
      "execution_count": 2,
      "outputs": [
        {
          "output_type": "stream",
          "text": [
            "Go to this URL in a browser: https://accounts.google.com/o/oauth2/auth?client_id=947318989803-6bn6qk8qdgf4n4g3pfee6491hc0brc4i.apps.googleusercontent.com&redirect_uri=urn%3aietf%3awg%3aoauth%3a2.0%3aoob&response_type=code&scope=email%20https%3a%2f%2fwww.googleapis.com%2fauth%2fdocs.test%20https%3a%2f%2fwww.googleapis.com%2fauth%2fdrive%20https%3a%2f%2fwww.googleapis.com%2fauth%2fdrive.photos.readonly%20https%3a%2f%2fwww.googleapis.com%2fauth%2fpeopleapi.readonly\n",
            "\n",
            "Enter your authorization code:\n",
            "··········\n",
            "Mounted at /content/drive\n"
          ],
          "name": "stdout"
        }
      ]
    },
    {
      "cell_type": "code",
      "metadata": {
        "id": "qzaHU7S9Ui8H",
        "colab_type": "code",
        "colab": {}
      },
      "source": [
        "%cd drive/My\\ Drive/\n",
        "!ls\n",
        "%cd DB_Project/\n",
        "!ls"
      ],
      "execution_count": null,
      "outputs": []
    },
    {
      "cell_type": "code",
      "metadata": {
        "id": "cO88mZg4UvfW",
        "colab_type": "code",
        "colab": {}
      },
      "source": [
        "#Loading .CSV files into pandas dataframes\n",
        "covid_health_weather = pd.read_csv('US_counties_COVID19_health_weather_data.csv')\n",
        "county_geo = pd.read_csv('us_county_geometry.csv')\n",
        "county_sociohealth = pd.read_csv('us_county_sociohealth_data.csv')"
      ],
      "execution_count": 4,
      "outputs": []
    },
    {
      "cell_type": "code",
      "metadata": {
        "id": "fyqMfyafVRXc",
        "colab_type": "code",
        "colab": {
          "base_uri": "https://localhost:8080/",
          "height": 68
        },
        "outputId": "60e3679a-84a7-41c8-8efe-9efce78e4332"
      },
      "source": [
        "#checking the size of dataframes to avoid any data loss\n",
        "print('COVID_Health Weather: ', covid_health_weather.shape)\n",
        "print('us_county_geometry: ',county_geo.shape)\n",
        "print('us_county_sociohealth_data: ',county_sociohealth.shape)"
      ],
      "execution_count": 5,
      "outputs": [
        {
          "output_type": "stream",
          "text": [
            "COVID_Health Weather:  (186740, 227)\n",
            "us_county_geometry:  (3142, 7)\n",
            "us_county_sociohealth_data:  (3144, 181)\n"
          ],
          "name": "stdout"
        }
      ]
    },
    {
      "cell_type": "markdown",
      "metadata": {
        "id": "JMZdrUKxI1Ss",
        "colab_type": "text"
      },
      "source": [
        "# **Splitting and assigning all the columns in 3 files to form tables that are in 3NF**"
      ]
    },
    {
      "cell_type": "markdown",
      "metadata": {
        "id": "NTXHtbaxklPq",
        "colab_type": "text"
      },
      "source": [
        "***Making list of columns for each table***"
      ]
    },
    {
      "cell_type": "code",
      "metadata": {
        "id": "X17VqcU9AIOa",
        "colab_type": "code",
        "colab": {}
      },
      "source": [
        "# columns for \"covid_stats\" table\n",
        "columns_covid_stats = ['fips','date','cases','deaths']\n",
        "\n",
        "#state wide lockdown columns for \"state_lockdown_details\" table\n",
        "columns_state_lockdown_details = ['state','date_stay_at_home_announced','date_stay_at_home_effective']\n",
        "\n",
        "#columns for \"county_details\" table\n",
        "columns_county_details = ['fips','county','state','total_population','lat','lon','area_sqmi']\n",
        "\n",
        "#columns for \"station_details\" table\n",
        "columns_station_details = ['station_id','ELEV_M','station_name','CALL']\n",
        "\n",
        "#columns for \"daily_weather_details\" table\n",
        "columns_daily_weather_details = ['date','fips','mean_temp','min_temp','max_temp','dewpoint','sea_level_pressure','station_pressure','visibility',\n",
        "                                 'wind_speed','max_wind_speed','wind_gust','precipitation','precip_flag','fog','rain','snow','hail','thunder','tornado','km_to_closest_station']\n",
        "\n",
        "#columns for \"county_socio_health\" table\n",
        "columns_county_socio_health = ['fips','num_deaths','years_of_potential_life_lost_rate','percent_fair_or_poor_health','average_number_of_physically_unhealthy_days',\n",
        "                                'average_number_of_mentally_unhealthy_days','percent_low_birthweight','percent_smokers','percent_adults_with_obesity','food_environment_index',\n",
        "                                'percent_physically_inactive','percent_with_access_to_exercise_opportunities','percent_excessive_drinking','num_alcohol_impaired_driving_deaths','num_driving_deaths',\n",
        "                                'percent_driving_deaths_with_alcohol_involvement','num_chlamydia_cases','chlamydia_rate','teen_birth_rate','num_uninsured','percent_uninsured','num_primary_care_physicians',\n",
        "                                'primary_care_physicians_rate','num_dentists','dentist_rate','num_mental_health_providers','mental_health_provider_rate','preventable_hospitalization_rate',\n",
        "                                'percent_with_annual_mammogram','percent_vaccinated','high_school_graduation_rate','num_some_college','population','percent_some_college','num_unemployed_CHR',\n",
        "                                'labor_force','percent_unemployed_CHR','percent_children_in_poverty','eightieth_percentile_income','twentieth_percentile_income','income_ratio',\n",
        "                                'num_single_parent_households_CHR','num_households_CHR','percent_single_parent_households_CHR','num_associations','social_association_rate','annual_average_violent_crimes',\n",
        "                                'violent_crime_rate','num_injury_deaths','injury_death_rate','average_daily_pm2_5','presence_of_water_violation','percent_severe_housing_problems','severe_housing_cost_burden',\n",
        "                                'overcrowding','inadequate_facilities','percent_drive_alone_to_work','num_workers_who_drive_alone','percent_long_commute_drives_alone','life_expectancy','num_deaths_2',\n",
        "                                'age_adjusted_death_rate','num_deaths_3','child_mortality_rate','num_deaths_4','infant_mortality_rate','percent_frequent_physical_distress','percent_frequent_mental_distress',\n",
        "                                'percent_adults_with_diabetes','num_hiv_cases','hiv_prevalence_rate','num_food_insecure','percent_food_insecure','num_limited_access','percent_limited_access_to_healthy_foods',\n",
        "                                'num_drug_overdose_deaths','drug_overdose_mortality_rate','num_motor_vehicle_deaths','motor_vehicle_mortality_rate','percent_insufficient_sleep','num_uninsured_2',\n",
        "                                'percent_uninsured_2','num_uninsured_3','percent_uninsured_3','other_primary_care_provider_rate','percent_disconnected_youth','average_grade_performance','average_grade_performance_2',\n",
        "                                'median_household_income','percent_enrolled_in_free_or_reduced_lunch','segregation_index','segregation_index_2','homicide_rate','num_deaths_5','suicide_rate_age_adjusted',\n",
        "                                'num_firearm_fatalities','firearm_fatalities_rate','juvenile_arrest_rate','average_traffic_volume_per_meter_of_major_roadways','num_homeowners','percent_homeowners',\n",
        "                                'num_households_with_severe_cost_burden','percent_severe_housing_cost_burden','population_2','percent_less_than_18_years_of_age','percent_65_and_over',\n",
        "                                'num_black','percent_black','num_american_indian_alaska_native','percent_american_indian_alaska_native','num_asian','percent_asian','num_native_hawaiian_other_pacific_islander',\n",
        "                                'percent_native_hawaiian_other_pacific_islander','num_hispanic','percent_hispanic','num_non_hispanic_white','percent_non_hispanic_white','num_not_proficient_in_english',\n",
        "                                'percent_not_proficient_in_english','percent_female','num_rural','percent_rural','num_housing_units','num_households_CDC','num_below_poverty','num_unemployed_CDC',\n",
        "                                'per_capita_income','num_no_highschool_diploma','num_age_65_and_older','num_age_17_and_younger','num_disabled','num_single_parent_households_CDC','num_minorities',\n",
        "                                'num_limited_english_abilities','num_multi_unit_housing','num_mobile_homes','num_overcrowding','num_households_with_no_vehicle','percent_below_poverty',\n",
        "                                'percent_unemployed_CDC','percent_no_highschool_diploma','percent_age_65_and_older','percent_age_17_and_younger','percent_single_parent_households_CDC','percent_minorities',\n",
        "                                'percent_limited_english_abilities','percent_multi_unit_housing','percent_mobile_homes','percent_overcrowding','percent_no_vehicle','percent_institutionalized_in_group_quarters',\n",
        "                                'percentile_rank_below_poverty','percentile_rank_unemployed','percentile_rank_per_capita_income','percentile_rank_no_highschool_diploma','percentile_rank_socioeconomic_theme',\n",
        "                                'percentile_rank_age_65_and_older','percentile_rank_age_17_and_younger','percentile_rank_disabled','percentile_rank_single_parent_households','percentile_rank_household_comp_disability_theme',\n",
        "                                'percentile_rank_minorities','percentile_rank_limited_english_abilities','percentile_rank_minority_status_and_language_theme','percentile_rank_multi_unit_housing',\n",
        "                                'percentile_rank_mobile_homes','percentile_rank_overcrowding','percentile_rank_no_vehicle','percentile_rank_institutionalized_in_group_quarters',\n",
        "                                'percentile_rank_housing_and_transportation','percentile_rank_social_vulnerability']"
      ],
      "execution_count": 135,
      "outputs": []
    },
    {
      "cell_type": "markdown",
      "metadata": {
        "id": "Jo8VCn60Srlq",
        "colab_type": "text"
      },
      "source": [
        "**Creating a DataFrame for each table**"
      ]
    },
    {
      "cell_type": "code",
      "metadata": {
        "id": "oa8vgZ1QSq5r",
        "colab_type": "code",
        "colab": {
          "base_uri": "https://localhost:8080/",
          "height": 119
        },
        "outputId": "742dfe15-3c93-4e96-c51d-8b4d12f17704"
      },
      "source": [
        "#creating dataframe for \"covid_stats\" table \n",
        "covid_stats = covid_health_weather[columns_covid_stats].sort_values(['fips','date'])\n",
        "print(\"Shape of covid_stats:\",covid_stats.shape)\n",
        "\n",
        "#creating dataframe for \"state_lockdown_details\" table \n",
        "state_lockdown_details = covid_health_weather[columns_state_lockdown_details].drop_duplicates()\n",
        "print(\"Shape of state_lockdown_details:\",state_lockdown_details.shape)\n",
        "\n",
        "#creating dataframe for \"county_details\" table \n",
        "county_details = county_sociohealth[columns_county_details].drop_duplicates()\n",
        "print(\"Shape of county_details:\",county_details.shape)\n",
        "\n",
        "#creating dataframe for \"station_details\" table\n",
        "station_details = covid_health_weather[columns_station_details].drop_duplicates('station_id')\n",
        "print(\"Shape of station_details:\",station_details.shape)\n",
        "\n",
        "#creating dataframe for \"daily_weather_details\" table\n",
        "daily_weather_details = covid_health_weather[columns_daily_weather_details].drop_duplicates()\n",
        "print(\"Shape of daily_weather_details\",daily_weather_details.shape)\n",
        "\n",
        "#creating dataframe for \"county_socio_health\" table\n",
        "county_socio_health = covid_health_weather[columns_county_socio_health].drop_duplicates()\n",
        "print(\"Shape of county_socio_health:\",county_socio_health.shape)\n"
      ],
      "execution_count": 136,
      "outputs": [
        {
          "output_type": "stream",
          "text": [
            "Shape of covid_stats: (186740, 4)\n",
            "Shape of state_lockdown_details: (51, 3)\n",
            "Shape of county_details: (3144, 7)\n",
            "Shape of station_details: (1668, 4)\n",
            "Shape of daily_weather_details (186740, 21)\n",
            "Shape of county_socio_health: (2960, 172)\n"
          ],
          "name": "stdout"
        }
      ]
    },
    {
      "cell_type": "markdown",
      "metadata": {
        "id": "0pG1dOTmm0QY",
        "colab_type": "text"
      },
      "source": [
        "# ***Finding duplicates based on the primary key columns choosen***"
      ]
    },
    {
      "cell_type": "code",
      "metadata": {
        "id": "eH-35LZMlQIH",
        "colab_type": "code",
        "colab": {}
      },
      "source": [
        "#for \"covid_stats\" table \n",
        "print(\"covid_stats: \",covid_stats[covid_stats.duplicated(['fips','date'])].shape)\n",
        "\n",
        "#for \"state_lockdown_details\" table \n",
        "print(\"state_lockdown_details: \",state_lockdown_details[state_lockdown_details.duplicated(['state'])].shape)\n",
        "\n",
        "#for \"county_details\" table \n",
        "print(\"county_details: \",county_details[county_details.duplicated(['fips'])].shape)\n",
        "\n",
        "#for \"daily_weather_details\" table\n",
        "print(\"daily_weather_details: \",daily_weather_details[daily_weather_details.duplicated(['fips','date'])].shape)\n",
        "\n",
        "#for \"county_socio_health\" table\n",
        "print(\"county_socio_health: \",county_socio_health[county_socio_health.duplicated(['fips'])].shape)\n",
        "\n",
        "#for \"station_details\" table\n",
        "print(\"station_details: \",station_details[station_details.duplicated(['station_id','ELEV_M'])])"
      ],
      "execution_count": null,
      "outputs": []
    },
    {
      "cell_type": "markdown",
      "metadata": {
        "id": "2i4L6h8M1weh",
        "colab_type": "text"
      },
      "source": [
        "# ***Generating files with SQL queries***"
      ]
    },
    {
      "cell_type": "markdown",
      "metadata": {
        "id": "stCXB8SP18s-",
        "colab_type": "text"
      },
      "source": [
        "# ***Station Details table***"
      ]
    },
    {
      "cell_type": "code",
      "metadata": {
        "id": "uWAZQDJae7a5",
        "colab_type": "code",
        "colab": {
          "base_uri": "https://localhost:8080/",
          "height": 17
        },
        "outputId": "4d1a3284-18fd-48df-de6e-18f4b434c5b0"
      },
      "source": [
        "from google.colab import files\n",
        "\n",
        "with open('station_details.sql', 'w') as f:\n",
        "  for index, row in station_details.iterrows():\n",
        "      f.write(\"INSERT INTO STATION_DETAILS (station_id, station_name, ELEV_M, call_values) VALUES (\" + str(row['station_id']) + \",\\'\" + str(row['station_name']) + \"\\',\" + str(row['ELEV_M']) + \",\\'\" + str(row['CALL']) + \"\\');\")\n",
        "      f.write(\"\\n\")\n",
        "files.download('station_details.sql')"
      ],
      "execution_count": 87,
      "outputs": [
        {
          "output_type": "display_data",
          "data": {
            "application/javascript": [
              "\n",
              "    async function download(id, filename, size) {\n",
              "      if (!google.colab.kernel.accessAllowed) {\n",
              "        return;\n",
              "      }\n",
              "      const div = document.createElement('div');\n",
              "      const label = document.createElement('label');\n",
              "      label.textContent = `Downloading \"${filename}\": `;\n",
              "      div.appendChild(label);\n",
              "      const progress = document.createElement('progress');\n",
              "      progress.max = size;\n",
              "      div.appendChild(progress);\n",
              "      document.body.appendChild(div);\n",
              "\n",
              "      const buffers = [];\n",
              "      let downloaded = 0;\n",
              "\n",
              "      const channel = await google.colab.kernel.comms.open(id);\n",
              "      // Send a message to notify the kernel that we're ready.\n",
              "      channel.send({})\n",
              "\n",
              "      for await (const message of channel.messages) {\n",
              "        // Send a message to notify the kernel that we're ready.\n",
              "        channel.send({})\n",
              "        if (message.buffers) {\n",
              "          for (const buffer of message.buffers) {\n",
              "            buffers.push(buffer);\n",
              "            downloaded += buffer.byteLength;\n",
              "            progress.value = downloaded;\n",
              "          }\n",
              "        }\n",
              "      }\n",
              "      const blob = new Blob(buffers, {type: 'application/binary'});\n",
              "      const a = document.createElement('a');\n",
              "      a.href = window.URL.createObjectURL(blob);\n",
              "      a.download = filename;\n",
              "      div.appendChild(a);\n",
              "      a.click();\n",
              "      div.remove();\n",
              "    }\n",
              "  "
            ],
            "text/plain": [
              "<IPython.core.display.Javascript object>"
            ]
          },
          "metadata": {
            "tags": []
          }
        },
        {
          "output_type": "display_data",
          "data": {
            "application/javascript": [
              "download(\"download_cfc00d46-c6d4-46ec-a469-c6ff21877624\", \"station_details.txt\", 245363)"
            ],
            "text/plain": [
              "<IPython.core.display.Javascript object>"
            ]
          },
          "metadata": {
            "tags": []
          }
        }
      ]
    },
    {
      "cell_type": "markdown",
      "metadata": {
        "id": "9VRbQQv22EYy",
        "colab_type": "text"
      },
      "source": [
        "# ***COVID stats table***"
      ]
    },
    {
      "cell_type": "code",
      "metadata": {
        "id": "PimSRrT-5YHW",
        "colab_type": "code",
        "colab": {}
      },
      "source": [
        "# Foramtting the dates\n",
        "covid_stats['date'] = pd.to_datetime(covid_stats['date'])"
      ],
      "execution_count": 96,
      "outputs": []
    },
    {
      "cell_type": "code",
      "metadata": {
        "id": "5v47AuJM2Jdl",
        "colab_type": "code",
        "colab": {
          "base_uri": "https://localhost:8080/",
          "height": 17
        },
        "outputId": "a4e99c50-70a7-4532-c1a5-b30ed8f76594"
      },
      "source": [
        "with open('FIPS_DAILY_CASES.sql', 'w') as f:\n",
        "  for index, row in covid_stats.iterrows():\n",
        "      f.write(\"INSERT INTO FIPS_DAILY_CASES (FIPS, DATE_RECORDED, CASES, DEATHS) VALUES (\\'\" + str(row['fips']) + \"\\',\\'\" + str(row['date']) + \"\\',\" + str(row['cases']) + \",\" + str(row['deaths']) + \");\")\n",
        "      f.write(\"\\n\")\n",
        "files.download('FIPS_DAILY_CASES.sql')"
      ],
      "execution_count": 101,
      "outputs": [
        {
          "output_type": "display_data",
          "data": {
            "application/javascript": [
              "\n",
              "    async function download(id, filename, size) {\n",
              "      if (!google.colab.kernel.accessAllowed) {\n",
              "        return;\n",
              "      }\n",
              "      const div = document.createElement('div');\n",
              "      const label = document.createElement('label');\n",
              "      label.textContent = `Downloading \"${filename}\": `;\n",
              "      div.appendChild(label);\n",
              "      const progress = document.createElement('progress');\n",
              "      progress.max = size;\n",
              "      div.appendChild(progress);\n",
              "      document.body.appendChild(div);\n",
              "\n",
              "      const buffers = [];\n",
              "      let downloaded = 0;\n",
              "\n",
              "      const channel = await google.colab.kernel.comms.open(id);\n",
              "      // Send a message to notify the kernel that we're ready.\n",
              "      channel.send({})\n",
              "\n",
              "      for await (const message of channel.messages) {\n",
              "        // Send a message to notify the kernel that we're ready.\n",
              "        channel.send({})\n",
              "        if (message.buffers) {\n",
              "          for (const buffer of message.buffers) {\n",
              "            buffers.push(buffer);\n",
              "            downloaded += buffer.byteLength;\n",
              "            progress.value = downloaded;\n",
              "          }\n",
              "        }\n",
              "      }\n",
              "      const blob = new Blob(buffers, {type: 'application/binary'});\n",
              "      const a = document.createElement('a');\n",
              "      a.href = window.URL.createObjectURL(blob);\n",
              "      a.download = filename;\n",
              "      div.appendChild(a);\n",
              "      a.click();\n",
              "      div.remove();\n",
              "    }\n",
              "  "
            ],
            "text/plain": [
              "<IPython.core.display.Javascript object>"
            ]
          },
          "metadata": {
            "tags": []
          }
        },
        {
          "output_type": "display_data",
          "data": {
            "application/javascript": [
              "download(\"download_73865625-f08f-4328-a15e-a6946da6b329\", \"FIPS_DAILY_CASES.sql\", 20713462)"
            ],
            "text/plain": [
              "<IPython.core.display.Javascript object>"
            ]
          },
          "metadata": {
            "tags": []
          }
        }
      ]
    },
    {
      "cell_type": "markdown",
      "metadata": {
        "id": "JTrP87YKApOV",
        "colab_type": "text"
      },
      "source": [
        "# ***state_lockdown_details table***"
      ]
    },
    {
      "cell_type": "code",
      "metadata": {
        "id": "_-Kut0FLBEvf",
        "colab_type": "code",
        "colab": {}
      },
      "source": [
        "state_lockdown_details['date_stay_at_home_announced'] = pd.to_datetime(state_lockdown_details['date_stay_at_home_announced'])\n",
        "state_lockdown_details['date_stay_at_home_effective'] = pd.to_datetime(state_lockdown_details['date_stay_at_home_effective'])"
      ],
      "execution_count": 104,
      "outputs": []
    },
    {
      "cell_type": "code",
      "metadata": {
        "id": "AQblaBEyAniI",
        "colab_type": "code",
        "colab": {}
      },
      "source": [
        "with open('state_lockdown_details.sql', 'w') as f:\n",
        "  for index, row in state_lockdown_details.iterrows():\n",
        "      f.write(\"INSERT INTO state_lockdown_details (state, date_stay_at_home_announced, date_stay_at_home_effective) VALUES (\\'\" + str(row['state']) + \"\\',\\'\" + str(row['date_stay_at_home_announced']) + \"\\',\\'\" + str(row['date_stay_at_home_effective']) + \"\\');\")\n",
        "      f.write(\"\\n\")\n",
        "files.download('state_lockdown_details.sql')"
      ],
      "execution_count": null,
      "outputs": []
    },
    {
      "cell_type": "markdown",
      "metadata": {
        "id": "gYBLj9wXLYgk",
        "colab_type": "text"
      },
      "source": [
        "## ***County Details Table***"
      ]
    },
    {
      "cell_type": "code",
      "metadata": {
        "id": "hQaG-YvoEnC5",
        "colab_type": "code",
        "colab": {}
      },
      "source": [
        "with open('county_details.sql', 'w') as f:\n",
        "  for index, row in county_details.iterrows():\n",
        "      f.write(\"INSERT INTO county_details (fips, county, state, total_population, lat, lon, area_sqmi ) VALUES (\"\n",
        "      + \"\\'\" + str(row['fips']) + \"\\'\" + \",\"\n",
        "      + \"\\'\" + str(row['county']) + \"\\'\"  + \",\"\n",
        "      + \"\\'\" + str(row['state']) + \"\\'\" + \",\"\n",
        "      + str(row['total_population']) + \",\"\n",
        "      + str(row['lat']) + \",\"\n",
        "      + str(row['lon']) + \",\"\n",
        "      + str(row['area_sqmi'])\n",
        "      + \");\")\n",
        "      f.write(\"\\n\")\n",
        "files.download('county_details.sql')"
      ],
      "execution_count": null,
      "outputs": []
    },
    {
      "cell_type": "markdown",
      "metadata": {
        "id": "oyuYNwPXSnYL",
        "colab_type": "text"
      },
      "source": [
        "# ***Daily Weather Details table***"
      ]
    },
    {
      "cell_type": "code",
      "metadata": {
        "id": "PenAf8idTG_4",
        "colab_type": "code",
        "colab": {}
      },
      "source": [
        "daily_weather_details['date'] = pd.to_datetime(daily_weather_details['date'])"
      ],
      "execution_count": 141,
      "outputs": []
    },
    {
      "cell_type": "code",
      "metadata": {
        "id": "FzzR_9B1TFNy",
        "colab_type": "code",
        "colab": {}
      },
      "source": [
        "daily_weather_details = daily_weather_details.sort_values(['fips','date'])"
      ],
      "execution_count": 142,
      "outputs": []
    },
    {
      "cell_type": "code",
      "metadata": {
        "id": "OJYoVAmJSk4v",
        "colab_type": "code",
        "colab": {
          "base_uri": "https://localhost:8080/",
          "height": 17
        },
        "outputId": "579bf128-b6b1-40f7-b58b-b10fb5a5917e"
      },
      "source": [
        "with open('daily_weather_details.sql', 'w') as f:\n",
        "  for index, row in daily_weather_details.iterrows():\n",
        "      f.write(\"INSERT INTO daily_weather_details (fips, date_recorded, mean_temp, min_temp, max_temp, dewpoint, sea_level_pressure, station_pressure , visibility, wind_speed, max_wind_speed, wind_gust, precipitation, precip_flag, fog, rain, snow, hail, thunder, tornado, km_to_closest_station) VALUES (\"\n",
        "      + \"\\'\" + str(row['fips']) + \"\\'\" + \",\"\n",
        "      + \"\\'\" + str(row['date']) + \"\\'\" + \",\"\n",
        "      + str(row['mean_temp']) + \",\"\n",
        "      + str(row['min_temp']) + \",\"\n",
        "      + str(row['max_temp']) + \",\"\n",
        "      + str(row['dewpoint']) + \",\"\n",
        "      + str(row['sea_level_pressure']) + \",\"\n",
        "      + str(row['station_pressure']) + \",\"\n",
        "      + str(row['visibility']) + \",\"\n",
        "      + str(row['wind_speed']) + \",\"\n",
        "      + str(row['max_wind_speed']) + \",\"\n",
        "      + str(row['wind_gust']) + \",\"\n",
        "      + str(row['precipitation']) + \",\"\n",
        "      + \"\\'\" + str(row['precip_flag']) + \"\\'\" + \",\"\n",
        "      + str(row['fog']) + \",\"\n",
        "      + str(row['rain']) + \",\"\n",
        "      + str(row['snow']) + \",\"\n",
        "      + str(row['hail']) + \",\"\n",
        "      + str(row['thunder']) + \",\"\n",
        "      + str(row['tornado']) + \",\"\n",
        "      + str(row['km_to_closest_station'])\n",
        "      + \");\")\n",
        "      f.write(\"\\n\")\n",
        "files.download('daily_weather_details.sql')\n"
      ],
      "execution_count": 143,
      "outputs": [
        {
          "output_type": "display_data",
          "data": {
            "application/javascript": [
              "\n",
              "    async function download(id, filename, size) {\n",
              "      if (!google.colab.kernel.accessAllowed) {\n",
              "        return;\n",
              "      }\n",
              "      const div = document.createElement('div');\n",
              "      const label = document.createElement('label');\n",
              "      label.textContent = `Downloading \"${filename}\": `;\n",
              "      div.appendChild(label);\n",
              "      const progress = document.createElement('progress');\n",
              "      progress.max = size;\n",
              "      div.appendChild(progress);\n",
              "      document.body.appendChild(div);\n",
              "\n",
              "      const buffers = [];\n",
              "      let downloaded = 0;\n",
              "\n",
              "      const channel = await google.colab.kernel.comms.open(id);\n",
              "      // Send a message to notify the kernel that we're ready.\n",
              "      channel.send({})\n",
              "\n",
              "      for await (const message of channel.messages) {\n",
              "        // Send a message to notify the kernel that we're ready.\n",
              "        channel.send({})\n",
              "        if (message.buffers) {\n",
              "          for (const buffer of message.buffers) {\n",
              "            buffers.push(buffer);\n",
              "            downloaded += buffer.byteLength;\n",
              "            progress.value = downloaded;\n",
              "          }\n",
              "        }\n",
              "      }\n",
              "      const blob = new Blob(buffers, {type: 'application/binary'});\n",
              "      const a = document.createElement('a');\n",
              "      a.href = window.URL.createObjectURL(blob);\n",
              "      a.download = filename;\n",
              "      div.appendChild(a);\n",
              "      a.click();\n",
              "      div.remove();\n",
              "    }\n",
              "  "
            ],
            "text/plain": [
              "<IPython.core.display.Javascript object>"
            ]
          },
          "metadata": {
            "tags": []
          }
        },
        {
          "output_type": "display_data",
          "data": {
            "application/javascript": [
              "download(\"download_3be62820-ce00-44c4-914f-9d4aa54f91cc\", \"daily_weather_details.sql\", 77071021)"
            ],
            "text/plain": [
              "<IPython.core.display.Javascript object>"
            ]
          },
          "metadata": {
            "tags": []
          }
        }
      ]
    },
    {
      "cell_type": "markdown",
      "metadata": {
        "id": "1DGj-QB8j6b_",
        "colab_type": "text"
      },
      "source": [
        "# ***Socio Health Data***"
      ]
    },
    {
      "cell_type": "code",
      "metadata": {
        "id": "5DYnbbzJkMD4",
        "colab_type": "code",
        "colab": {}
      },
      "source": [
        "prefix = \"INSERT INTO county_socio_health (\"\n",
        "for element in columns_county_socio_health:\n",
        "  prefix = prefix + element\n",
        "  prefix = prefix + ','\n",
        "prefix = prefix[:len(prefix)-1]\n",
        "prefix += \") VALUES (\""
      ],
      "execution_count": 154,
      "outputs": []
    },
    {
      "cell_type": "code",
      "metadata": {
        "id": "yfQI9Z_CkqBd",
        "colab_type": "code",
        "colab": {
          "base_uri": "https://localhost:8080/",
          "height": 54
        },
        "outputId": "dd047032-63fa-4517-d918-c852b5483467"
      },
      "source": [
        "print(prefix)"
      ],
      "execution_count": 155,
      "outputs": [
        {
          "output_type": "stream",
          "text": [
            "INSERT INTO county_socio_health (fips,num_deaths,years_of_potential_life_lost_rate,percent_fair_or_poor_health,average_number_of_physically_unhealthy_days,average_number_of_mentally_unhealthy_days,percent_low_birthweight,percent_smokers,percent_adults_with_obesity,food_environment_index,percent_physically_inactive,percent_with_access_to_exercise_opportunities,percent_excessive_drinking,num_alcohol_impaired_driving_deaths,num_driving_deaths,percent_driving_deaths_with_alcohol_involvement,num_chlamydia_cases,chlamydia_rate,teen_birth_rate,num_uninsured,percent_uninsured,num_primary_care_physicians,primary_care_physicians_rate,num_dentists,dentist_rate,num_mental_health_providers,mental_health_provider_rate,preventable_hospitalization_rate,percent_with_annual_mammogram,percent_vaccinated,high_school_graduation_rate,num_some_college,population,percent_some_college,num_unemployed_CHR,labor_force,percent_unemployed_CHR,percent_children_in_poverty,eightieth_percentile_income,twentieth_percentile_income,income_ratio,num_single_parent_households_CHR,num_households_CHR,percent_single_parent_households_CHR,num_associations,social_association_rate,annual_average_violent_crimes,violent_crime_rate,num_injury_deaths,injury_death_rate,average_daily_pm2_5,presence_of_water_violation,percent_severe_housing_problems,severe_housing_cost_burden,overcrowding,inadequate_facilities,percent_drive_alone_to_work,num_workers_who_drive_alone,percent_long_commute_drives_alone,life_expectancy,num_deaths_2,age_adjusted_death_rate,num_deaths_3,child_mortality_rate,num_deaths_4,infant_mortality_rate,percent_frequent_physical_distress,percent_frequent_mental_distress,percent_adults_with_diabetes,num_hiv_cases,hiv_prevalence_rate,num_food_insecure,percent_food_insecure,num_limited_access,percent_limited_access_to_healthy_foods,num_drug_overdose_deaths,drug_overdose_mortality_rate,num_motor_vehicle_deaths,motor_vehicle_mortality_rate,percent_insufficient_sleep,num_uninsured_2,percent_uninsured_2,num_uninsured_3,percent_uninsured_3,other_primary_care_provider_rate,percent_disconnected_youth,average_grade_performance,average_grade_performance_2,median_household_income,percent_enrolled_in_free_or_reduced_lunch,segregation_index,segregation_index_2,homicide_rate,num_deaths_5,suicide_rate_age_adjusted,num_firearm_fatalities,firearm_fatalities_rate,juvenile_arrest_rate,average_traffic_volume_per_meter_of_major_roadways,num_homeowners,percent_homeowners,num_households_with_severe_cost_burden,percent_severe_housing_cost_burden,population_2,percent_less_than_18_years_of_age,percent_65_and_over,num_black,percent_black,num_american_indian_alaska_native,percent_american_indian_alaska_native,num_asian,percent_asian,num_native_hawaiian_other_pacific_islander,percent_native_hawaiian_other_pacific_islander,num_hispanic,percent_hispanic,num_non_hispanic_white,percent_non_hispanic_white,num_not_proficient_in_english,percent_not_proficient_in_english,percent_female,num_rural,percent_rural,num_housing_units,num_households_CDC,num_below_poverty,num_unemployed_CDC,per_capita_income,num_no_highschool_diploma,num_age_65_and_older,num_age_17_and_younger,num_disabled,num_single_parent_households_CDC,num_minorities,num_limited_english_abilities,num_multi_unit_housing,num_mobile_homes,num_overcrowding,num_households_with_no_vehicle,percent_below_poverty,percent_unemployed_CDC,percent_no_highschool_diploma,percent_age_65_and_older,percent_age_17_and_younger,percent_single_parent_households_CDC,percent_minorities,percent_limited_english_abilities,percent_multi_unit_housing,percent_mobile_homes,percent_overcrowding,percent_no_vehicle,percent_institutionalized_in_group_quarters,percentile_rank_below_poverty,percentile_rank_unemployed,percentile_rank_per_capita_income,percentile_rank_no_highschool_diploma,percentile_rank_socioeconomic_theme,percentile_rank_age_65_and_older,percentile_rank_age_17_and_younger,percentile_rank_disabled,percentile_rank_single_parent_households,percentile_rank_household_comp_disability_theme,percentile_rank_minorities,percentile_rank_limited_english_abilities,percentile_rank_minority_status_and_language_theme,percentile_rank_multi_unit_housing,percentile_rank_mobile_homes,percentile_rank_overcrowding,percentile_rank_no_vehicle,percentile_rank_institutionalized_in_group_quarters,percentile_rank_housing_and_transportation,percentile_rank_social_vulnerability) VALUES (\n"
          ],
          "name": "stdout"
        }
      ]
    },
    {
      "cell_type": "code",
      "metadata": {
        "id": "oPCijmW4ksCE",
        "colab_type": "code",
        "colab": {
          "base_uri": "https://localhost:8080/",
          "height": 17
        },
        "outputId": "34a040a3-3804-42e2-d954-052539688949"
      },
      "source": [
        "with open('county_socio_health.sql', 'w') as f:\n",
        "  for index, row in county_socio_health.iterrows():\n",
        "      f.write( prefix\n",
        "      + \"\\'\" + str(row['fips']) + \"\\'\" + \",\"\n",
        "      + str(row['num_deaths']) + \",\"\n",
        "      + str(row['years_of_potential_life_lost_rate']) + \",\"\n",
        "      + str(row['percent_fair_or_poor_health']) + \",\"\n",
        "      + str(row['average_number_of_physically_unhealthy_days']) + \",\"\n",
        "      + str(row['average_number_of_mentally_unhealthy_days']) + \",\"\n",
        "      + str(row['percent_low_birthweight']) + \",\"\n",
        "      + str(row['percent_smokers']) + \",\"\n",
        "      + str(row['percent_adults_with_obesity']) + \",\"\n",
        "      + str(row['food_environment_index']) + \",\"\n",
        "      + str(row['percent_physically_inactive']) + \",\"\n",
        "      + str(row['percent_with_access_to_exercise_opportunities']) + \",\"\n",
        "      + str(row['percent_excessive_drinking']) + \",\"\n",
        "      + str(row['num_alcohol_impaired_driving_deaths']) + \",\"\n",
        "      + str(row['num_driving_deaths']) + \",\"\n",
        "      + str(row['percent_driving_deaths_with_alcohol_involvement']) + \",\"\n",
        "      + str(row['num_chlamydia_cases']) + \",\"\n",
        "      + str(row['chlamydia_rate']) + \",\"\n",
        "      + str(row['teen_birth_rate']) + \",\"\n",
        "      + str(row['num_uninsured']) + \",\"\n",
        "      + str(row['percent_uninsured']) + \",\"\n",
        "      + str(row['num_primary_care_physicians']) + \",\"\n",
        "      + str(row['primary_care_physicians_rate']) + \",\"\n",
        "      + str(row['num_dentists']) + \",\"\n",
        "      + str(row['dentist_rate']) + \",\"\n",
        "      + str(row['num_mental_health_providers']) + \",\"\n",
        "      + str(row['mental_health_provider_rate']) + \",\"\n",
        "      + str(row['preventable_hospitalization_rate']) + \",\"\n",
        "      + str(row['percent_with_annual_mammogram']) + \",\"\n",
        "      + str(row['percent_vaccinated']) + \",\"\n",
        "      + str(row['high_school_graduation_rate']) + \",\"\n",
        "      + str(row['num_some_college']) + \",\"\n",
        "      + str(row['population']) + \",\"\n",
        "      + str(row['percent_some_college']) + \",\"\n",
        "      + str(row['num_unemployed_CHR']) + \",\"\n",
        "      + str(row['labor_force']) + \",\"\n",
        "      + str(row['percent_unemployed_CHR']) + \",\"\n",
        "      + str(row['percent_children_in_poverty']) + \",\"\n",
        "      + str(row['eightieth_percentile_income']) + \",\"\n",
        "      + str(row['twentieth_percentile_income']) + \",\"\n",
        "      + str(row['income_ratio']) + \",\"\n",
        "      + str(row['num_single_parent_households_CHR']) + \",\"\n",
        "      + str(row['num_households_CHR']) + \",\"\n",
        "      + str(row['percent_single_parent_households_CHR']) + \",\"\n",
        "      + str(row['num_associations']) + \",\"\n",
        "      + str(row['social_association_rate']) + \",\"\n",
        "      + str(row['annual_average_violent_crimes']) + \",\"\n",
        "      + str(row['violent_crime_rate']) + \",\"\n",
        "      + str(row['num_injury_deaths']) + \",\"\n",
        "      + str(row['injury_death_rate']) + \",\"\n",
        "      + str(row['average_daily_pm2_5']) + \",\"\n",
        "      + \"\\'\" + str(row['presence_of_water_violation']) + \"\\'\" + \",\"\n",
        "      + str(row['percent_severe_housing_problems']) + \",\"\n",
        "      + str(row['severe_housing_cost_burden']) + \",\"\n",
        "      + str(row['overcrowding']) + \",\"\n",
        "      + str(row['inadequate_facilities']) + \",\"\n",
        "      + str(row['percent_drive_alone_to_work']) + \",\"\n",
        "      + str(row['num_workers_who_drive_alone']) + \",\"\n",
        "      + str(row['percent_long_commute_drives_alone']) + \",\"\n",
        "      + str(row['life_expectancy']) + \",\"\n",
        "      + str(row['num_deaths_2']) + \",\"\n",
        "      + str(row['age_adjusted_death_rate']) + \",\"\n",
        "      + str(row['num_deaths_3']) + \",\"\n",
        "      + str(row['child_mortality_rate']) + \",\"\n",
        "      + str(row['num_deaths_4']) + \",\"\n",
        "      + str(row['infant_mortality_rate']) + \",\"\n",
        "      + str(row['percent_frequent_physical_distress']) + \",\"\n",
        "      + str(row['percent_frequent_mental_distress']) + \",\"\n",
        "      + str(row['percent_adults_with_diabetes']) + \",\"\n",
        "      + str(row['num_hiv_cases']) + \",\"\n",
        "      + str(row['hiv_prevalence_rate']) + \",\"\n",
        "      + str(row['num_food_insecure']) + \",\"\n",
        "      + str(row['percent_food_insecure']) + \",\"\n",
        "      + str(row['num_limited_access']) + \",\"\n",
        "      + str(row['percent_limited_access_to_healthy_foods']) + \",\"\n",
        "      + str(row['num_drug_overdose_deaths']) + \",\"\n",
        "      + str(row['drug_overdose_mortality_rate']) + \",\"\n",
        "      + str(row['num_motor_vehicle_deaths']) + \",\"\n",
        "      + str(row['motor_vehicle_mortality_rate']) + \",\"\n",
        "      + str(row['percent_insufficient_sleep']) + \",\"\n",
        "      + str(row['num_uninsured_2']) + \",\"\n",
        "      + str(row['percent_uninsured_2']) + \",\"\n",
        "      + str(row['num_uninsured_3']) + \",\"\n",
        "      + str(row['percent_uninsured_3']) + \",\"\n",
        "      + str(row['other_primary_care_provider_rate']) + \",\"\n",
        "      + str(row['percent_disconnected_youth']) + \",\"\n",
        "      + str(row['average_grade_performance']) + \",\"\n",
        "      + str(row['average_grade_performance_2']) + \",\"\n",
        "      + str(row['median_household_income']) + \",\"\n",
        "      + str(row['percent_enrolled_in_free_or_reduced_lunch']) + \",\"\n",
        "      + str(row['segregation_index']) + \",\"\n",
        "      + str(row['segregation_index_2']) + \",\"\n",
        "      + str(row['homicide_rate']) + \",\"\n",
        "      + str(row['num_deaths_5']) + \",\"\n",
        "      + str(row['suicide_rate_age_adjusted']) + \",\"\n",
        "      + str(row['num_firearm_fatalities']) + \",\"\n",
        "      + str(row['firearm_fatalities_rate']) + \",\"\n",
        "      + str(row['juvenile_arrest_rate']) + \",\"\n",
        "      + str(row['average_traffic_volume_per_meter_of_major_roadways']) + \",\"\n",
        "      + str(row['num_homeowners']) + \",\"\n",
        "      + str(row['percent_homeowners']) + \",\"\n",
        "      + str(row['num_households_with_severe_cost_burden']) + \",\"\n",
        "      + str(row['percent_severe_housing_cost_burden']) + \",\"\n",
        "      + str(row['population_2']) + \",\"\n",
        "      + str(row['percent_less_than_18_years_of_age']) + \",\"\n",
        "      + str(row['percent_65_and_over']) + \",\"\n",
        "      + str(row['num_black']) + \",\"\n",
        "      + str(row['percent_black']) + \",\"\n",
        "      + str(row['num_american_indian_alaska_native']) + \",\"\n",
        "      + str(row['percent_american_indian_alaska_native']) + \",\"\n",
        "      + str(row['num_asian']) + \",\"\n",
        "      + str(row['percent_asian']) + \",\"\n",
        "      + str(row['num_native_hawaiian_other_pacific_islander']) + \",\"\n",
        "      + str(row['percent_native_hawaiian_other_pacific_islander']) + \",\"\n",
        "      + str(row['num_hispanic']) + \",\"\n",
        "      + str(row['percent_hispanic']) + \",\"\n",
        "      + str(row['num_non_hispanic_white']) + \",\"\n",
        "      + str(row['percent_non_hispanic_white']) + \",\"\n",
        "      + str(row['num_not_proficient_in_english']) + \",\"\n",
        "      + str(row['percent_not_proficient_in_english']) + \",\"\n",
        "      + str(row['percent_female']) + \",\"\n",
        "      + str(row['num_rural']) + \",\"\n",
        "      + str(row['percent_rural']) + \",\"\n",
        "      + str(row['num_housing_units']) + \",\"\n",
        "      + str(row['num_households_CDC']) + \",\"\n",
        "      + str(row['num_below_poverty']) + \",\"\n",
        "      + str(row['num_unemployed_CDC']) + \",\"\n",
        "      + str(row['per_capita_income']) + \",\"\n",
        "      + str(row['num_no_highschool_diploma']) + \",\"\n",
        "      + str(row['num_age_65_and_older']) + \",\"\n",
        "      + str(row['num_age_17_and_younger']) + \",\"\n",
        "      + str(row['num_disabled']) + \",\"\n",
        "      + str(row['num_single_parent_households_CDC']) + \",\"\n",
        "      + str(row['num_minorities']) + \",\"\n",
        "      + str(row['num_limited_english_abilities']) + \",\"\n",
        "      + str(row['num_multi_unit_housing']) + \",\"\n",
        "      + str(row['num_mobile_homes']) + \",\"\n",
        "      + str(row['num_overcrowding']) + \",\"\n",
        "      + str(row['num_households_with_no_vehicle']) + \",\"\n",
        "      + str(row['percent_below_poverty']) + \",\"\n",
        "      + str(row['percent_unemployed_CDC']) + \",\"\n",
        "      + str(row['percent_no_highschool_diploma']) + \",\"\n",
        "      + str(row['percent_age_65_and_older']) + \",\"\n",
        "      + str(row['percent_age_17_and_younger']) + \",\"\n",
        "      + str(row['percent_single_parent_households_CDC']) + \",\"\n",
        "      + str(row['percent_minorities']) + \",\"\n",
        "      + str(row['percent_limited_english_abilities']) + \",\"\n",
        "      + str(row['percent_multi_unit_housing']) + \",\"\n",
        "      + str(row['percent_mobile_homes']) + \",\"\n",
        "      + str(row['percent_overcrowding']) + \",\"\n",
        "      + str(row['percent_no_vehicle']) + \",\"\n",
        "      + str(row['percent_institutionalized_in_group_quarters']) + \",\"\n",
        "      + str(row['percentile_rank_below_poverty']) + \",\"\n",
        "      + str(row['percentile_rank_unemployed']) + \",\"\n",
        "      + str(row['percentile_rank_per_capita_income']) + \",\"\n",
        "      + str(row['percentile_rank_no_highschool_diploma']) + \",\"\n",
        "      + str(row['percentile_rank_socioeconomic_theme']) + \",\"\n",
        "      + str(row['percentile_rank_age_65_and_older']) + \",\"\n",
        "      + str(row['percentile_rank_age_17_and_younger']) + \",\"\n",
        "      + str(row['percentile_rank_disabled']) + \",\"\n",
        "      + str(row['percentile_rank_single_parent_households']) + \",\"\n",
        "      + str(row['percentile_rank_household_comp_disability_theme']) + \",\"\n",
        "      + str(row['percentile_rank_minorities']) + \",\"\n",
        "      + str(row['percentile_rank_limited_english_abilities']) + \",\"\n",
        "      + str(row['percentile_rank_minority_status_and_language_theme']) + \",\"\n",
        "      + str(row['percentile_rank_multi_unit_housing']) + \",\"\n",
        "      + str(row['percentile_rank_mobile_homes']) + \",\"\n",
        "      + str(row['percentile_rank_overcrowding']) + \",\"\n",
        "      + str(row['percentile_rank_no_vehicle']) + \",\"\n",
        "      + str(row['percentile_rank_institutionalized_in_group_quarters']) + \",\"\n",
        "      + str(row['percentile_rank_housing_and_transportation']) + \",\"\n",
        "      + str(row['percentile_rank_social_vulnerability'])\n",
        "      + \");\")\n",
        "      f.write(\"\\n\")\n",
        "files.download('county_socio_health.sql')"
      ],
      "execution_count": 159,
      "outputs": [
        {
          "output_type": "display_data",
          "data": {
            "application/javascript": [
              "\n",
              "    async function download(id, filename, size) {\n",
              "      if (!google.colab.kernel.accessAllowed) {\n",
              "        return;\n",
              "      }\n",
              "      const div = document.createElement('div');\n",
              "      const label = document.createElement('label');\n",
              "      label.textContent = `Downloading \"${filename}\": `;\n",
              "      div.appendChild(label);\n",
              "      const progress = document.createElement('progress');\n",
              "      progress.max = size;\n",
              "      div.appendChild(progress);\n",
              "      document.body.appendChild(div);\n",
              "\n",
              "      const buffers = [];\n",
              "      let downloaded = 0;\n",
              "\n",
              "      const channel = await google.colab.kernel.comms.open(id);\n",
              "      // Send a message to notify the kernel that we're ready.\n",
              "      channel.send({})\n",
              "\n",
              "      for await (const message of channel.messages) {\n",
              "        // Send a message to notify the kernel that we're ready.\n",
              "        channel.send({})\n",
              "        if (message.buffers) {\n",
              "          for (const buffer of message.buffers) {\n",
              "            buffers.push(buffer);\n",
              "            downloaded += buffer.byteLength;\n",
              "            progress.value = downloaded;\n",
              "          }\n",
              "        }\n",
              "      }\n",
              "      const blob = new Blob(buffers, {type: 'application/binary'});\n",
              "      const a = document.createElement('a');\n",
              "      a.href = window.URL.createObjectURL(blob);\n",
              "      a.download = filename;\n",
              "      div.appendChild(a);\n",
              "      a.click();\n",
              "      div.remove();\n",
              "    }\n",
              "  "
            ],
            "text/plain": [
              "<IPython.core.display.Javascript object>"
            ]
          },
          "metadata": {
            "tags": []
          }
        },
        {
          "output_type": "display_data",
          "data": {
            "application/javascript": [
              "download(\"download_da8b5557-ed7f-4cc9-adcc-16482c37eea9\", \"county_socio_health.sql\", 17101087)"
            ],
            "text/plain": [
              "<IPython.core.display.Javascript object>"
            ]
          },
          "metadata": {
            "tags": []
          }
        }
      ]
    },
    {
      "cell_type": "code",
      "metadata": {
        "id": "E1MoKO7ssD6m",
        "colab_type": "code",
        "colab": {
          "base_uri": "https://localhost:8080/",
          "height": 17
        },
        "outputId": "018586c2-c7f6-45c6-bc0f-184f3f35a670"
      },
      "source": [
        "columns_county_socio_health = pd.DataFrame(columns_county_socio_health)\n",
        "columns_county_socio_health.to_csv('columns_county_socio_health.csv',index = False)\n",
        "files.download('columns_county_socio_health.csv')"
      ],
      "execution_count": 157,
      "outputs": [
        {
          "output_type": "display_data",
          "data": {
            "application/javascript": [
              "\n",
              "    async function download(id, filename, size) {\n",
              "      if (!google.colab.kernel.accessAllowed) {\n",
              "        return;\n",
              "      }\n",
              "      const div = document.createElement('div');\n",
              "      const label = document.createElement('label');\n",
              "      label.textContent = `Downloading \"${filename}\": `;\n",
              "      div.appendChild(label);\n",
              "      const progress = document.createElement('progress');\n",
              "      progress.max = size;\n",
              "      div.appendChild(progress);\n",
              "      document.body.appendChild(div);\n",
              "\n",
              "      const buffers = [];\n",
              "      let downloaded = 0;\n",
              "\n",
              "      const channel = await google.colab.kernel.comms.open(id);\n",
              "      // Send a message to notify the kernel that we're ready.\n",
              "      channel.send({})\n",
              "\n",
              "      for await (const message of channel.messages) {\n",
              "        // Send a message to notify the kernel that we're ready.\n",
              "        channel.send({})\n",
              "        if (message.buffers) {\n",
              "          for (const buffer of message.buffers) {\n",
              "            buffers.push(buffer);\n",
              "            downloaded += buffer.byteLength;\n",
              "            progress.value = downloaded;\n",
              "          }\n",
              "        }\n",
              "      }\n",
              "      const blob = new Blob(buffers, {type: 'application/binary'});\n",
              "      const a = document.createElement('a');\n",
              "      a.href = window.URL.createObjectURL(blob);\n",
              "      a.download = filename;\n",
              "      div.appendChild(a);\n",
              "      a.click();\n",
              "      div.remove();\n",
              "    }\n",
              "  "
            ],
            "text/plain": [
              "<IPython.core.display.Javascript object>"
            ]
          },
          "metadata": {
            "tags": []
          }
        },
        {
          "output_type": "display_data",
          "data": {
            "application/javascript": [
              "download(\"download_8f00349b-63fe-4170-b2a8-b70ae3ac766b\", \"columns_county_socio_health.csv\", 4366)"
            ],
            "text/plain": [
              "<IPython.core.display.Javascript object>"
            ]
          },
          "metadata": {
            "tags": []
          }
        }
      ]
    }
  ]
}