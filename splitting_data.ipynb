{
  "nbformat": 4,
  "nbformat_minor": 0,
  "metadata": {
    "colab": {
      "name": "Copy of Untitled6.ipynb",
      "provenance": [],
      "include_colab_link": true
    },
    "kernelspec": {
      "name": "python3",
      "display_name": "Python 3"
    }
  },
  "cells": [
    {
      "cell_type": "markdown",
      "metadata": {
        "id": "view-in-github",
        "colab_type": "text"
      },
      "source": [
        "<a href=\"https://colab.research.google.com/github/rajadevineni/COVID_Analysis/blob/master/splitting_data.ipynb\" target=\"_parent\"><img src=\"https://colab.research.google.com/assets/colab-badge.svg\" alt=\"Open In Colab\"/></a>"
      ]
    },
    {
      "cell_type": "code",
      "metadata": {
        "id": "LGuke7WpUIBC",
        "colab_type": "code",
        "colab": {}
      },
      "source": [
        "import pandas as pd\n",
        "import os\n",
        "from google.colab import files"
      ],
      "execution_count": 2,
      "outputs": []
    },
    {
      "cell_type": "markdown",
      "metadata": {
        "id": "3QNT4drfKTw3",
        "colab_type": "text"
      },
      "source": [
        "# ***Navigating to the source files directory and loading data into dataframes***"
      ]
    },
    {
      "cell_type": "markdown",
      "metadata": {
        "id": "rU2itm_HLvMt",
        "colab_type": "text"
      },
      "source": [
        "*This is my GDrive directory, edit this to your necessisity* "
      ]
    },
    {
      "cell_type": "code",
      "metadata": {
        "id": "-rbSmBK53yRv",
        "colab_type": "code",
        "colab": {}
      },
      "source": [
        "#connecting to Google Drive\n",
        "from google.colab import drive\n",
        "drive.mount('/content/drive')"
      ],
      "execution_count": null,
      "outputs": []
    },
    {
      "cell_type": "code",
      "metadata": {
        "id": "qzaHU7S9Ui8H",
        "colab_type": "code",
        "colab": {}
      },
      "source": [
        "#%cd drive/My\\ Drive/\n",
        "%cd DB_Project/\n",
        "!ls"
      ],
      "execution_count": null,
      "outputs": []
    },
    {
      "cell_type": "code",
      "metadata": {
        "id": "cO88mZg4UvfW",
        "colab_type": "code",
        "colab": {}
      },
      "source": [
        "#Loading .CSV files into pandas dataframes\n",
        "covid_health_weather = pd.read_csv('US_counties_COVID19_health_weather_data.csv')\n",
        "county_geo = pd.read_csv('us_county_geometry.csv')\n",
        "county_sociohealth = pd.read_csv('us_county_sociohealth_data.csv')"
      ],
      "execution_count": 10,
      "outputs": []
    },
    {
      "cell_type": "code",
      "metadata": {
        "id": "fyqMfyafVRXc",
        "colab_type": "code",
        "colab": {}
      },
      "source": [
        "#checking the size of dataframes to avoid any data loss\n",
        "print('COVID_Health Weather: ', covid_health_weather.shape)\n",
        "print('us_county_geometry: ',county_geo.shape)\n",
        "print('us_county_sociohealth_data: ',county_sociohealth.shape)"
      ],
      "execution_count": null,
      "outputs": []
    },
    {
      "cell_type": "markdown",
      "metadata": {
        "id": "JMZdrUKxI1Ss",
        "colab_type": "text"
      },
      "source": [
        "# **Splitting and assigning all the columns in 3 files to form tables that are in 3NF**"
      ]
    },
    {
      "cell_type": "markdown",
      "metadata": {
        "id": "NTXHtbaxklPq",
        "colab_type": "text"
      },
      "source": [
        "***Making list of columns for each table***"
      ]
    },
    {
      "cell_type": "code",
      "metadata": {
        "id": "X17VqcU9AIOa",
        "colab_type": "code",
        "colab": {}
      },
      "source": [
        "# columns for \"covid_stats\" table\n",
        "columns_covid_stats = ['fips','date','cases','deaths']\n",
        "\n",
        "#state wide lockdown columns for \"state_lockdown_details\" table\n",
        "columns_state_lockdown_details = ['state','date_stay_at_home_announced','date_stay_at_home_effective']\n",
        "\n",
        "#columns for \"county_details\" table\n",
        "columns_county_details = ['fips','county','state','total_population','lat','lon','area_sqmi']\n",
        "\n",
        "#columns for \"station_details\" table\n",
        "columns_station_details = ['station_id','ELEV_M','station_name','CALL']\n",
        "\n",
        "#columns for \"daily_weather_details\" table\n",
        "columns_daily_weather_details = ['date','fips','mean_temp','min_temp','max_temp','dewpoint','sea_level_pressure','station_pressure','visibility',\n",
        "                                 'wind_speed','max_wind_speed','wind_gust','precipitation','precip_flag','fog','rain','snow','hail','thunder','tornado']\n",
        "\n",
        "#columns for \"county_socio_health\" table\n",
        "columns_county_socio_health = ['fips','num_deaths','years_of_potential_life_lost_rate','percent_fair_or_poor_health','average_number_of_physically_unhealthy_days',\n",
        "                                'average_number_of_mentally_unhealthy_days','percent_low_birthweight','percent_smokers','percent_adults_with_obesity','food_environment_index',\n",
        "                                'percent_physically_inactive','percent_with_access_to_exercise_opportunities','percent_excessive_drinking','num_alcohol_impaired_driving_deaths','num_driving_deaths',\n",
        "                                'percent_driving_deaths_with_alcohol_involvement','num_chlamydia_cases','chlamydia_rate','teen_birth_rate','num_uninsured','percent_uninsured','num_primary_care_physicians',\n",
        "                                'primary_care_physicians_rate','num_dentists','dentist_rate','num_mental_health_providers','mental_health_provider_rate','preventable_hospitalization_rate',\n",
        "                                'percent_with_annual_mammogram','percent_vaccinated','high_school_graduation_rate','num_some_college','population','percent_some_college','num_unemployed_CHR',\n",
        "                                'labor_force','percent_unemployed_CHR','percent_children_in_poverty','eightieth_percentile_income','twentieth_percentile_income','income_ratio',\n",
        "                                'num_single_parent_households_CHR','num_households_CHR','percent_single_parent_households_CHR','num_associations','social_association_rate','annual_average_violent_crimes',\n",
        "                                'violent_crime_rate','num_injury_deaths','injury_death_rate','average_daily_pm2_5','presence_of_water_violation','percent_severe_housing_problems','severe_housing_cost_burden',\n",
        "                                'overcrowding','inadequate_facilities','percent_drive_alone_to_work','num_workers_who_drive_alone','percent_long_commute_drives_alone','life_expectancy','num_deaths_2',\n",
        "                                'age_adjusted_death_rate','num_deaths_3','child_mortality_rate','num_deaths_4','infant_mortality_rate','percent_frequent_physical_distress','percent_frequent_mental_distress',\n",
        "                                'percent_adults_with_diabetes','num_hiv_cases','hiv_prevalence_rate','num_food_insecure','percent_food_insecure','num_limited_access','percent_limited_access_to_healthy_foods',\n",
        "                                'num_drug_overdose_deaths','drug_overdose_mortality_rate','num_motor_vehicle_deaths','motor_vehicle_mortality_rate','percent_insufficient_sleep','num_uninsured_2',\n",
        "                                'percent_uninsured_2','num_uninsured_3','percent_uninsured_3','other_primary_care_provider_rate','percent_disconnected_youth','average_grade_performance','average_grade_performance_2',\n",
        "                                'median_household_income','percent_enrolled_in_free_or_reduced_lunch','segregation_index','segregation_index_2','homicide_rate','num_deaths_5','suicide_rate_age_adjusted',\n",
        "                                'num_firearm_fatalities','firearm_fatalities_rate','juvenile_arrest_rate','average_traffic_volume_per_meter_of_major_roadways','num_homeowners','percent_homeowners',\n",
        "                                'num_households_with_severe_cost_burden','percent_severe_housing_cost_burden','population_2','percent_less_than_18_years_of_age','percent_65_and_over',\n",
        "                                'num_black','percent_black','num_american_indian_alaska_native','percent_american_indian_alaska_native','num_asian','percent_asian','num_native_hawaiian_other_pacific_islander',\n",
        "                                'percent_native_hawaiian_other_pacific_islander','num_hispanic','percent_hispanic','num_non_hispanic_white','percent_non_hispanic_white','num_not_proficient_in_english',\n",
        "                                'percent_not_proficient_in_english','percent_female','num_rural','percent_rural','num_housing_units','num_households_CDC','num_below_poverty','num_unemployed_CDC',\n",
        "                                'per_capita_income','num_no_highschool_diploma','num_age_65_and_older','num_age_17_and_younger','num_disabled','num_single_parent_households_CDC','num_minorities',\n",
        "                                'num_limited_english_abilities','num_multi_unit_housing','num_mobile_homes','num_overcrowding','num_households_with_no_vehicle','percent_below_poverty',\n",
        "                                'percent_unemployed_CDC','percent_no_highschool_diploma','percent_age_65_and_older','percent_age_17_and_younger','percent_single_parent_households_CDC','percent_minorities',\n",
        "                                'percent_limited_english_abilities','percent_multi_unit_housing','percent_mobile_homes','percent_overcrowding','percent_no_vehicle','percent_institutionalized_in_group_quarters',\n",
        "                                'percentile_rank_below_poverty','percentile_rank_unemployed','percentile_rank_per_capita_income','percentile_rank_no_highschool_diploma','percentile_rank_socioeconomic_theme',\n",
        "                                'percentile_rank_age_65_and_older','percentile_rank_age_17_and_younger','percentile_rank_disabled','percentile_rank_single_parent_households','percentile_rank_household_comp_disability_theme',\n",
        "                                'percentile_rank_minorities','percentile_rank_limited_english_abilities','percentile_rank_minority_status_and_language_theme','percentile_rank_multi_unit_housing',\n",
        "                                'percentile_rank_mobile_homes','percentile_rank_overcrowding','percentile_rank_no_vehicle','percentile_rank_institutionalized_in_group_quarters',\n",
        "                                'percentile_rank_housing_and_transportation','percentile_rank_social_vulnerability','km_to_closest_station',]"
      ],
      "execution_count": 12,
      "outputs": []
    },
    {
      "cell_type": "markdown",
      "metadata": {
        "id": "Jo8VCn60Srlq",
        "colab_type": "text"
      },
      "source": [
        "**Creating a DataFrame for each table**"
      ]
    },
    {
      "cell_type": "code",
      "metadata": {
        "id": "oa8vgZ1QSq5r",
        "colab_type": "code",
        "colab": {
          "base_uri": "https://localhost:8080/",
          "height": 119
        },
        "outputId": "387a8cd5-b38b-4597-f70b-dcddd9cbaed4"
      },
      "source": [
        "#creating dataframe for \"covid_stats\" table \n",
        "covid_stats = covid_health_weather[columns_covid_stats].sort_values(['fips','date'])\n",
        "print(\"Shape of covid_stats:\",covid_stats.shape)\n",
        "\n",
        "#creating dataframe for \"state_lockdown_details\" table \n",
        "state_lockdown_details = covid_health_weather[columns_state_lockdown_details].drop_duplicates()\n",
        "print(\"Shape of state_lockdown_details:\",state_lockdown_details.shape)\n",
        "\n",
        "#creating dataframe for \"county_details\" table \n",
        "county_details = county_sociohealth[columns_county_details].drop_duplicates()\n",
        "print(\"Shape of county_details:\",county_details.shape)\n",
        "\n",
        "#creating dataframe for \"station_details\" table\n",
        "station_details = covid_health_weather[columns_station_details].drop_duplicates()\n",
        "print(\"Shape of station_details:\",station_details.shape)\n",
        "\n",
        "#creating dataframe for \"daily_weather_details\" table\n",
        "daily_weather_details = covid_health_weather[columns_daily_weather_details].drop_duplicates()\n",
        "print(\"Shape of daily_weather_details\",daily_weather_details.shape)\n",
        "\n",
        "#creating dataframe for \"county_socio_health\" table\n",
        "county_socio_health = covid_health_weather[columns_county_socio_health].drop_duplicates()\n",
        "print(\"Shape of county_socio_health:\",county_socio_health.shape)\n"
      ],
      "execution_count": 38,
      "outputs": [
        {
          "output_type": "stream",
          "text": [
            "Shape of covid_stats: (186740, 4)\n",
            "Shape of state_lockdown_details: (51, 3)\n",
            "Shape of county_details: (3144, 7)\n",
            "Shape of station_details: (1911, 4)\n",
            "Shape of daily_weather_details (186740, 20)\n",
            "Shape of county_socio_health: (2960, 173)\n"
          ],
          "name": "stdout"
        }
      ]
    },
    {
      "cell_type": "markdown",
      "metadata": {
        "id": "0pG1dOTmm0QY",
        "colab_type": "text"
      },
      "source": [
        "# ***Finding duplicates based on the primary key columns choosen***"
      ]
    },
    {
      "cell_type": "code",
      "metadata": {
        "id": "eH-35LZMlQIH",
        "colab_type": "code",
        "colab": {
          "base_uri": "https://localhost:8080/",
          "height": 323
        },
        "outputId": "a72b1f6d-ef97-4136-f02e-69ab35139452"
      },
      "source": [
        "#for \"covid_stats\" table \n",
        "print(\"covid_stats: \",covid_stats[covid_stats.duplicated(['fips','date'])].shape)\n",
        "\n",
        "#for \"state_lockdown_details\" table \n",
        "print(\"state_lockdown_details: \",state_lockdown_details[state_lockdown_details.duplicated(['state'])].shape)\n",
        "\n",
        "#for \"county_details\" table \n",
        "print(\"county_details: \",county_details[county_details.duplicated(['fips'])].shape)\n",
        "\n",
        "#for \"daily_weather_details\" table\n",
        "print(\"daily_weather_details: \",daily_weather_details[daily_weather_details.duplicated(['fips','date'])].shape)\n",
        "\n",
        "#for \"county_socio_health\" table\n",
        "print(\"county_socio_health: \",county_socio_health[county_socio_health.duplicated(['fips'])].shape)\n",
        "\n",
        "#for \"station_details\" table\n",
        "print(\"station_details: \",station_details[station_details.duplicated(['station_id','ELEV_M'])])"
      ],
      "execution_count": 48,
      "outputs": [
        {
          "output_type": "stream",
          "text": [
            "covid_stats:  (0, 4)\n",
            "state_lockdown_details:  (0, 3)\n",
            "county_details:  (0, 7)\n",
            "daily_weather_details:  (0, 20)\n",
            "county_socio_health:  (0, 173)\n",
            "station_details:          station_id  ELEV_M station_name  CALL\n",
            "70513          NaN    40.5          NaN  KGWO\n",
            "143947         NaN     6.1          NaN  KCGE\n",
            "148328         NaN     6.1          NaN  KCPK\n",
            "169370         NaN     2.7          NaN  KHWO\n",
            "183834         NaN   293.5          NaN  K3A1\n",
            "183861         NaN     6.7          NaN   NaN\n",
            "184101         NaN    10.1          NaN  KXFL\n",
            "184137         NaN    38.1          NaN  KBOW\n",
            "184775         NaN   236.2          NaN  KEKX\n",
            "185236         NaN   218.2          NaN  KVER\n",
            "186082         NaN   181.1          NaN  KEOD\n",
            "186675         NaN   178.0          NaN   NaN\n"
          ],
          "name": "stdout"
        }
      ]
    },
    {
      "cell_type": "code",
      "metadata": {
        "id": "21Vtp-8oShNS",
        "colab_type": "code",
        "colab": {}
      },
      "source": [
        "\"\"\"county_details.to_csv('data_county_details.csv',index = False) \n",
        "files.download('data_county_details.csv')\n",
        "\n",
        "county_covid_stats.to_csv('data_county_covid_stats.csv',index = False)\n",
        "files.download('data_county_covid_stats.csv')\n",
        "\n",
        "county_stay_home.to_csv('data_county_stay_home.csv',index = False)\n",
        "files.download('data_county_stay_home.csv')\n",
        "\n",
        "county_weather_status.to_csv('data_county_weather_status.csv',index = False)\n",
        "files.download('data_county_weather_status.csv')\"\"\""
      ],
      "execution_count": null,
      "outputs": []
    }
  ]
}